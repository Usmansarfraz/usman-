{
 "cells": [
  {
   "cell_type": "code",
   "execution_count": 4,
   "metadata": {},
   "outputs": [
    {
     "name": "stdout",
     "output_type": "stream",
     "text": [
      "Twinkle, twinkle, little star,\n",
      "\tHow I wonder what you are!\n",
      "\t\tUp above the world so high,\n",
      "\t\tLike a diamond in the sky.\n",
      "Twinkle, twinkle, little star,\n",
      "\tHow I wonder what you are!\n"
     ]
    }
   ],
   "source": [
    "#Write a Python program to print the following string in a specific format\n",
    "print(\"Twinkle, twinkle, little star,\\n\\tHow I wonder what you are!\\n\\t\\tUp above the world so high,\\n\\t\\tLike a diamond in the sky.\\nTwinkle, twinkle, little star,\\n\\tHow I wonder what you are!\")\n",
    "\n"
   ]
  },
  {
   "cell_type": "code",
   "execution_count": 5,
   "metadata": {},
   "outputs": [
    {
     "name": "stdout",
     "output_type": "stream",
     "text": [
      "3.7.6 (default, Jan  8 2020, 16:21:45) [MSC v.1916 32 bit (Intel)]\n"
     ]
    }
   ],
   "source": [
    "#Write a Python program to get the Python version you are using\n",
    "import sys\n",
    "print(sys.version)"
   ]
  },
  {
   "cell_type": "code",
   "execution_count": 7,
   "metadata": {},
   "outputs": [
    {
     "name": "stdout",
     "output_type": "stream",
     "text": [
      "Current date and time : \n",
      "2021-10-23 22:21:46\n"
     ]
    }
   ],
   "source": [
    "#Write a Python program to display the current date and time\n",
    "import datetime\n",
    "now = datetime.datetime.now()\n",
    "print (\"Current date and time : \")\n",
    "print (now.strftime(\"%Y-%m-%d %H:%M:%S\"))"
   ]
  },
  {
   "cell_type": "code",
   "execution_count": 8,
   "metadata": {},
   "outputs": [
    {
     "name": "stdout",
     "output_type": "stream",
     "text": [
      "Input the radius of the circle : 55\n",
      "The area of the circle with radius 55.0 is: 9503.317777109125\n"
     ]
    }
   ],
   "source": [
    "#Write a Python program which accepts the radius of a circle from the user and compute the area.\n",
    "from math import pi\n",
    "r = float(input (\"Input the radius of the circle : \"))\n",
    "print (\"The area of the circle with radius \" + str(r) + \" is: \" + str(pi * r**2))"
   ]
  },
  {
   "cell_type": "code",
   "execution_count": 11,
   "metadata": {},
   "outputs": [
    {
     "name": "stdout",
     "output_type": "stream",
     "text": [
      "Input your First Name : india\n",
      "Input your Last Name : Pakistan\n",
      "Hello  Pakistan india\n"
     ]
    }
   ],
   "source": [
    "#Write a Python program which accepts the user's first and last name and print them in reverse order with a space between them.\n",
    "Firstname = input(\"Input your First Name : \")\n",
    "Lastname = input(\"Input your Last Name : \")\n",
    "print (\"Hello  \" + Lastname + \" \" + Firstname)\n"
   ]
  },
  {
   "cell_type": "code",
   "execution_count": 16,
   "metadata": {},
   "outputs": [
    {
     "name": "stdout",
     "output_type": "stream",
     "text": [
      "add first number50\n",
      "add second number50\n",
      "100\n"
     ]
    }
   ],
   "source": [
    "#Write a python program which takes two inputs from user and print them addition\n",
    "a = int(input(\"add first number\"));\n",
    "b = int(input (\"add second number\"));\n",
    "Result = a+b;\n",
    "print (Result);"
   ]
  },
  {
   "cell_type": "code",
   "execution_count": 1,
   "metadata": {},
   "outputs": [
    {
     "name": "stdout",
     "output_type": "stream",
     "text": [
      "add marks sub190\n",
      "add marks sub250\n",
      "add marks sub335\n",
      "add marks sub460\n",
      "add marks sub585\n",
      "64.0\n",
      "D\n"
     ]
    }
   ],
   "source": [
    "#Write a program which takes 5 inputs from user for different subject’s marks, total it and generate mark sheet using grades\n",
    "sub1 = int (input (\"add marks sub1\"));\n",
    "sub2 = int (input(\"add marks sub2\"));\n",
    "sub3 = int (input(\"add marks sub3\"));\n",
    "sub4 = int (input(\"add marks sub4\"));\n",
    "sub5 = int (input(\"add marks sub5\"));\n",
    "Total = sub1+sub2+sub3+sub4+sub5\n",
    "percent = Total / 500*100\n",
    "print (percent);\n",
    "if percent < 100 and percent >90:\n",
    "    print(\"A\");\n",
    "elif percent <90 and percent >80:\n",
    "    print (\"B\");\n",
    "elif percent <80 and percent >70:\n",
    "    print (\"C\");\n",
    "elif percent <70 and percent >60:\n",
    "    print (\"D\");\n",
    "elif percent <60 and percent >50:\n",
    "    print (\"E\");\n",
    "elif percent <50 and percent >40:\n",
    "    print (\"E1\");\n",
    "elif percent >100 or percent<0:\n",
    "    print (\"cant define\");\n",
    "else:\n",
    "    print (\"fail\");\n"
   ]
  },
  {
   "cell_type": "code",
   "execution_count": 3,
   "metadata": {},
   "outputs": [
    {
     "name": "stdout",
     "output_type": "stream",
     "text": [
      "Give any number5\n",
      "is Odd\n"
     ]
    }
   ],
   "source": [
    "#Write a program which take input from user and identify that the given number is even or odd?\n",
    "a = int (input(\"Give any number\"))\n",
    "if (a % 2 == 0):\n",
    "    print (\"is Even\");\n",
    "else:\n",
    "    print (\"is Odd\")"
   ]
  },
  {
   "cell_type": "code",
   "execution_count": 8,
   "metadata": {},
   "outputs": [
    {
     "name": "stdout",
     "output_type": "stream",
     "text": [
      "['ali', 'akbar', 'naveed', 'ahmed']\n",
      "4\n"
     ]
    }
   ],
   "source": [
    "#Write a program which print the length of the list?\n",
    "list = ['ali','akbar','naveed','ahmed']\n",
    "print (list);\n",
    "lenght = len(list)\n",
    "print(lenght);"
   ]
  },
  {
   "cell_type": "code",
   "execution_count": null,
   "metadata": {},
   "outputs": [],
   "source": [
    "#10.Write a Python program to sum all the numeric items in a list?\n"
   ]
  }
 ],
 "metadata": {
  "kernelspec": {
   "display_name": "Python 3",
   "language": "python",
   "name": "python3"
  },
  "language_info": {
   "codemirror_mode": {
    "name": "ipython",
    "version": 3
   },
   "file_extension": ".py",
   "mimetype": "text/x-python",
   "name": "python",
   "nbconvert_exporter": "python",
   "pygments_lexer": "ipython3",
   "version": "3.7.6"
  }
 },
 "nbformat": 4,
 "nbformat_minor": 4
}
